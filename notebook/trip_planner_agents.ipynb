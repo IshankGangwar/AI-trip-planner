{
 "cells": [
  {
   "cell_type": "code",
   "execution_count": 13,
   "id": "e8297c97-172e-4b3a-8d3c-5e08e9923c26",
   "metadata": {},
   "outputs": [],
   "source": [
    "# CrewAI + LLM setup\n",
    "from crewai import Agent, Task, Crew\n",
    "from langchain_community.llms import Ollama\n"
   ]
  },
  {
   "cell_type": "code",
   "execution_count": 14,
   "id": "45483cd1-7112-4046-916e-da6807fd1533",
   "metadata": {},
   "outputs": [],
   "source": [
    "llm = Ollama(model=\"llama3.2\")\n"
   ]
  },
  {
   "cell_type": "code",
   "execution_count": 15,
   "id": "d1e378c8-fc4a-4bef-b94e-b6bb8ac25eec",
   "metadata": {},
   "outputs": [
    {
     "name": "stdout",
     "output_type": "stream",
     "text": [
      "\n",
      "\n",
      "\n",
      "\n",
      "\n",
      "\n",
      "\n",
      "\n",
      "\n"
     ]
    }
   ],
   "source": [
    "# Agent 1: Destination Expert\n",
    "destination_expert = Agent(\n",
    "    role=\"Destination Expert\",\n",
    "    goal=\"Create a high-level, day-by-day travel plan based on user destination and interests.\",\n",
    "    backstory=\"A seasoned travel consultant who crafts enjoyable, balanced itineraries.\",\n",
    "    verbose=True,\n",
    "    allow_delegation=False,\n",
    "    llm=llm\n",
    ")\n",
    "\n",
    "# Agent 2: Travel Guide\n",
    "travel_guide = Agent(\n",
    "    role=\"Travel Guide\",\n",
    "    goal=\"Add specific details: places, food spots, timing, and local tips.\",\n",
    "    backstory=\"A local guide who knows the best attractions, food, and travel hacks.\",\n",
    "    verbose=True,\n",
    "    allow_delegation=False,\n",
    "    llm=llm\n",
    ")\n",
    "\n",
    "# Agent 3: Itinerary Optimizer\n",
    "itinerary_optimizer = Agent(\n",
    "    role=\"Itinerary Optimizer\",\n",
    "    goal=\"Optimize the trip plan to be realistic, well-paced, and fun.\",\n",
    "    backstory=\"A travel strategist focused on efficiency and user comfort.\",\n",
    "    verbose=True,\n",
    "    allow_delegation=False,\n",
    "    llm=llm\n",
    ")\n"
   ]
  },
  {
   "cell_type": "code",
   "execution_count": 16,
   "id": "1c9b7dbf-8797-4857-a174-8085bba93196",
   "metadata": {},
   "outputs": [],
   "source": [
    "# You can later take this from Streamlit\n",
    "destination = \"Paris\"\n",
    "days = 3\n",
    "interests = \"history, food, art\"\n"
   ]
  },
  {
   "cell_type": "code",
   "execution_count": 18,
   "id": "89830f11-c992-46f8-8d29-e55740089ddf",
   "metadata": {},
   "outputs": [
    {
     "name": "stdout",
     "output_type": "stream",
     "text": [
      "🗓️ Destination Expert Output:\n",
      " Here is a high-level itinerary for a 3-day trip to Paris that caters to interests in history, food, and art:\n",
      "\n",
      "Day 1:\n",
      "\n",
      "* Visit the Louvre Museum\n",
      "* Explore Montmartre neighborhood\n",
      "\n",
      "Day 2:\n",
      "\n",
      "* Visit the Musée d'Orsay\n",
      "* Take a Seine River cruise with lunch at a river-side café\n",
      "\n",
      "Day 3:\n",
      "\n",
      "* Visit the Palace of Versailles\n",
      "* Wander through the charming streets of Le Marais\n"
     ]
    }
   ],
   "source": [
    "task1_prompt = f\"\"\"\n",
    "You're planning a {days}-day trip to {destination} for someone interested in {interests}.\n",
    "Create a high-level itinerary listing 1–2 general activities per day. Avoid details or times.\n",
    "\"\"\"\n",
    "task1_result = llm.invoke(task1_prompt)\n",
    "print(\"🗓️ Destination Expert Output:\\n\", task1_result)\n"
   ]
  },
  {
   "cell_type": "code",
   "execution_count": 19,
   "id": "5991d17f-2f19-4696-a676-339c80f6cdde",
   "metadata": {},
   "outputs": [
    {
     "name": "stdout",
     "output_type": "stream",
     "text": [
      "\n",
      "📍 Travel Guide Output:\n",
      " Paris, the City of Light! Here's an expanded, detailed itinerary for your 3-day trip to Paris that caters to interests in history, food, and art:\n",
      "\n",
      "**Day 1: History and Montmartre**\n",
      "\n",
      "* 9:00 AM - Start your day at the iconic **Eiffel Tower**, but don't worry, you won't be climbing it just yet! Take a stroll along the Champ de Mars park and grab a coffee at one of the cafes on the ground level.\n",
      "* 10:30 AM - Head to the **Louvre Museum** (1st Arrondissement). The museum is open from 9:00 AM, but consider arriving early to beat the crowds. Spend about 2-3 hours exploring the vast collections, including the Mona Lisa. Don't miss the **Glass Pyramid**, a stunning architectural addition.\n",
      "* 1:30 PM - Take a break for lunch at **Le Comptoir du Relais** (6th Arrondissement), a classic Parisian bistro serving delicious French cuisine at reasonable prices.\n",
      "* 2:30 PM - Explore the charming neighborhood of **Montmartre**, famous for its bohemian vibe, street artists, and stunning views from the top of the hill. Visit the **Basilique du Sacré-Cœur** (open 6:00 AM to 10:45 PM), a beautiful white church perched on the hill.\n",
      "* 6:00 PM - Enjoy dinner at **Chez L'Ami Jean**, a cozy restaurant in the heart of Montmartre, serving traditional French cuisine with a twist.\n",
      "\n",
      "**Day 2: Art and River Cruise**\n",
      "\n",
      "* 9:30 AM - Begin your day at the iconic **Musée d'Orsay** (6th Arrondissement), home to an impressive collection of Impressionist and Post-Impressionist art. The museum is open from 9:30 AM, so arrive early to avoid crowds.\n",
      "* 12:30 PM - Take a break for lunch at **Le Grand Vefour**, one of the oldest restaurants in Paris (18th century!). Try their famous Escargots and Steak Tartare.\n",
      "* 2:00 PM - Embark on a scenic **Seine River Cruise** with Bateaux-Mouches or Vedettes de Paris, offering stunning views of the city's landmarks. The cruise typically lasts about 1 hour, but be sure to book in advance to secure your spot.\n",
      "* 4:00 PM - After the cruise, head back to your accommodation for a short rest before exploring the trendy neighborhood of **Le Marais**.\n",
      "\n",
      "**Day 3: Palace of Versailles and Le Marais**\n",
      "\n",
      "* 9:30 AM - Take the RER C train from Paris to **Versailles-Château**, about 40 minutes away. Spend about 2-3 hours exploring the stunning **Palace of Versailles**, including its opulent Hall of Mirrors.\n",
      "* 1:00 PM - Grab lunch at **Le Jardin d'Hiver**, a charming restaurant in the palace gardens offering delicious French cuisine and a relaxed atmosphere.\n",
      "* 3:30 PM - Return to Paris by RER C train and explore the charming streets of **Le Marais**. Visit the famous **Place des Vosges**, one of the oldest squares in Paris, and admire the beautiful architecture.\n",
      "\n",
      "Local Tips and Travel Modes:\n",
      "\n",
      "* Metro: Paris has an efficient metro system with 16 lines that cover most areas of the city. Buy a Carnet of 10 tickets for €14.50 or use a Paris Visite pass for unlimited travel.\n",
      "* Bus: The bus network in Paris is extensive, but not as frequent as the metro. Use the RATP website to plan your route.\n",
      "* Taxi: Taxis are readily available, but be aware that prices can add up quickly.\n",
      "* Bike: If you prefer to explore on two wheels, consider renting a bike through companies like Vélib' or Bateaux-Mouches.\n",
      "\n",
      "Opening Hours:\n",
      "\n",
      "* Louvre Museum: Monday to Sunday, 9:00 AM - 6:00 PM\n",
      "* Musée d'Orsay: Tuesday to Sunday, 9:30 AM - 6:00 PM\n",
      "* Palace of Versailles: Open daily from 9:15 AM to 5:30 PM (April to October), and 9:15 AM to 4:45 PM (November to March)\n",
      "* Seine River Cruise: Varies depending on the company, but generally starts at 10:00 AM or 11:30 AM\n",
      "* Restaurants:\n",
      "\t+ Le Comptoir du Relais: Monday to Saturday, 12:00 PM - 2:30 PM and 7:30 PM - 10:00 PM\n",
      "\t+ Chez L'Ami Jean: Tuesday to Sunday, 12:30 PM - 3:30 PM and 7:00 PM - 11:00 PM\n",
      "\t+ Le Grand Vefour: Monday to Saturday, 12:00 PM - 2:30 PM and 7:30 PM - 10:00 PM\n",
      "\n",
      "Bon voyage et bon appétit!\n"
     ]
    }
   ],
   "source": [
    "task2_prompt = f\"\"\"\n",
    "Here's a high-level trip plan for a {days}-day trip to {destination}:\n",
    "\n",
    "{task1_result}\n",
    "\n",
    "Now expand it into a detailed itinerary. Include:\n",
    "- Specific places\n",
    "- Local restaurants or food\n",
    "- Opening hours\n",
    "- Travel modes and local tips\n",
    "\"\"\"\n",
    "task2_result = llm.invoke(task2_prompt)\n",
    "print(\"\\n📍 Travel Guide Output:\\n\", task2_result)\n"
   ]
  },
  {
   "cell_type": "code",
   "execution_count": 20,
   "id": "69d5bafd-522d-4e97-be83-b070ad3bf036",
   "metadata": {},
   "outputs": [
    {
     "name": "stdout",
     "output_type": "stream",
     "text": [
      "\n",
      "✅ Final Optimized Itinerary:\n",
      " Here is a reviewed and optimized version of the itinerary:\n",
      "\n",
      "**Paris, the City of Light!**\n",
      "\n",
      "Here's an expanded, detailed itinerary for your 3-day trip to Paris that caters to interests in history, food, and art:\n",
      "\n",
      "**Day 1: History and Montmartre**\n",
      "\n",
      "* 9:00 AM - Start your day at the iconic **Eiffel Tower**, but don't worry, you won't be climbing it just yet! Take a stroll along the Champ de Mars park and grab a coffee at one of the cafes on the ground level.\n",
      "* 10:30 AM - Head to the **Louvre Museum** (1st Arrondissement). Consider arriving early to beat the crowds. Spend about 2 hours exploring the vast collections, including the Mona Lisa. Don't miss the **Glass Pyramid**, a stunning architectural addition.\n",
      "* 12:30 PM - Take a break for lunch at **Le Comptoir du Relais** (6th Arrondissement), a classic Parisian bistro serving delicious French cuisine at reasonable prices.\n",
      "* 1:30 PM - Explore the charming neighborhood of **Montmartre**, famous for its bohemian vibe, street artists, and stunning views from the top of the hill. Visit the **Basilique du Sacré-Cœur** (open 6:00 AM to 10:45 PM), a beautiful white church perched on the hill.\n",
      "* 5:30 PM - Enjoy dinner at **Chez L'Ami Jean**, a cozy restaurant in the heart of Montmartre, serving traditional French cuisine with a twist.\n",
      "\n",
      "**Day 2: Art and River Cruise**\n",
      "\n",
      "* 9:30 AM - Begin your day at the iconic **Musée d'Orsay** (6th Arrondissement), home to an impressive collection of Impressionist and Post-Impressionist art. Consider arriving early to avoid crowds.\n",
      "* 12:00 PM - Take a break for lunch at **Le Grand Vefour**, one of the oldest restaurants in Paris (18th century!). Try their famous Escargots and Steak Tartare.\n",
      "* 1:30 PM - Embark on a scenic **Seine River Cruise** with Bateaux-Mouches or Vedettes de Paris, offering stunning views of the city's landmarks. The cruise typically lasts about 1 hour, but be sure to book in advance to secure your spot.\n",
      "* 3:00 PM - Explore the trendy neighborhood of **Le Marais**, famous for its fashionable boutiques and art galleries.\n",
      "\n",
      "**Day 3: Palace of Versailles**\n",
      "\n",
      "* 9:30 AM - Take the RER C train from Paris to **Versailles-Château**, about 40 minutes away. Spend about 2-3 hours exploring the stunning **Palace of Versailles**, including its opulent Hall of Mirrors.\n",
      "* 1:00 PM - Grab lunch at **Le Jardin d'Hiver**, a charming restaurant in the palace gardens offering delicious French cuisine and a relaxed atmosphere.\n",
      "* 3:30 PM - Return to Paris by RER C train and spend some time shopping for souvenirs or exploring a local market.\n",
      "\n",
      "**Local Tips and Travel Modes**\n",
      "\n",
      "* Metro: Paris has an efficient metro system with 16 lines that cover most areas of the city. Buy a Carnet of 10 tickets for €14.50 or use a Paris Visite pass for unlimited travel.\n",
      "* Bus: The bus network in Paris is extensive, but not as frequent as the metro. Use the RATP website to plan your route.\n",
      "* Taxi: Taxis are readily available, but be aware that prices can add up quickly.\n",
      "* Bike: If you prefer to explore on two wheels, consider renting a bike through companies like Vélib' or Bateaux-Mouches.\n",
      "\n",
      "**Opening Hours**\n",
      "\n",
      "* Louvre Museum: Monday to Sunday, 9:00 AM - 6:00 PM\n",
      "* Musée d'Orsay: Tuesday to Sunday, 9:30 AM - 6:00 PM\n",
      "* Palace of Versailles: Open daily from 9:15 AM to 5:30 PM (April to October), and 9:15 AM to 4:45 PM (November to March)\n",
      "* Seine River Cruise: Varies depending on the company, but generally starts at 10:00 AM or 11:30 AM\n",
      "* Restaurants:\n",
      "\t+ Le Comptoir du Relais: Monday to Saturday, 12:00 PM - 2:30 PM and 7:30 PM - 10:00 PM\n",
      "\t+ Chez L'Ami Jean: Tuesday to Sunday, 12:30 PM - 3:30 PM and 7:00 PM - 11:00 PM\n",
      "\t+ Le Grand Vefour: Monday to Saturday, 12:00 PM - 2:30 PM and 7:30 PM - 10:00 PM\n",
      "\n",
      "**Additional Suggestions**\n",
      "\n",
      "* Consider purchasing a Paris Museum Pass, which grants you entry to many of the city's top museums and attractions.\n",
      "* Take some time to explore the charming streets of **Montmartre**, **Le Marais**, and other neighborhoods in between meals and sightseeing.\n",
      "* Don't forget to try some delicious French pastries and coffee at a local café!\n",
      "* If you have time, consider visiting the famous **Arc de Triomphe** or taking a stroll through the beautiful **Tuileries Garden**.\n",
      "\n",
      "I made the following changes:\n",
      "\n",
      "1. Removed unnecessary details and condensed the itinerary for easier reading.\n",
      "2. Reorganized the days to make better use of travel time between destinations.\n",
      "3. Added more specific timing for meals and activities.\n",
      "4. Included additional local tips and suggestions for exploring Paris.\n",
      "5. Simplified the formatting and made it easier to read.\n",
      "\n",
      "Let me know if you'd like me to suggest any further improvements!\n"
     ]
    }
   ],
   "source": [
    "task3_prompt = f\"\"\"\n",
    "Here is a detailed itinerary for a {days}-day trip to {destination}:\n",
    "\n",
    "{task2_result}\n",
    "\n",
    "Review and optimize it. Ensure it's:\n",
    "- Realistic in timing\n",
    "- Well-paced\n",
    "- Not overloaded\n",
    "- Clear and user-friendly\n",
    "\n",
    "Suggest any improvements.\n",
    "\"\"\"\n",
    "task3_result = llm.invoke(task3_prompt)\n",
    "print(\"\\n✅ Final Optimized Itinerary:\\n\", task3_result)\n"
   ]
  },
  {
   "cell_type": "code",
   "execution_count": null,
   "id": "bca63503-7d5b-4187-b3ac-102c2465b98e",
   "metadata": {},
   "outputs": [],
   "source": []
  }
 ],
 "metadata": {
  "kernelspec": {
   "display_name": "Python 3 (ipykernel)",
   "language": "python",
   "name": "python3"
  },
  "language_info": {
   "codemirror_mode": {
    "name": "ipython",
    "version": 3
   },
   "file_extension": ".py",
   "mimetype": "text/x-python",
   "name": "python",
   "nbconvert_exporter": "python",
   "pygments_lexer": "ipython3",
   "version": "3.11.9"
  }
 },
 "nbformat": 4,
 "nbformat_minor": 5
}
